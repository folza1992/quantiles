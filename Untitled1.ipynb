{
 "cells": [
  {
   "cell_type": "code",
   "execution_count": 7,
   "metadata": {
    "collapsed": false
   },
   "outputs": [
    {
     "name": "stderr",
     "output_type": "stream",
     "text": [
      "C:\\Program Files\\Anaconda3\\lib\\site-packages\\sklearn\\cross_validation.py:44: DeprecationWarning: This module was deprecated in version 0.18 in favor of the model_selection module into which all the refactored classes and functions are moved. Also note that the interface of the new CV iterators are different from that of this module. This module will be removed in 0.20.\n",
      "  \"This module will be removed in 0.20.\", DeprecationWarning)\n",
      "C:\\Program Files\\Anaconda3\\lib\\site-packages\\sklearn\\grid_search.py:43: DeprecationWarning: This module was deprecated in version 0.18 in favor of the model_selection module into which all the refactored classes and functions are moved. This module will be removed in 0.20.\n",
      "  DeprecationWarning)\n"
     ]
    },
    {
     "data": {
      "text/plain": [
       "'F:\\\\novu'"
      ]
     },
     "execution_count": 7,
     "metadata": {},
     "output_type": "execute_result"
    }
   ],
   "source": [
    "#Add packages\n",
    "%matplotlib inline \n",
    "import numpy as np\n",
    "import matplotlib.pyplot as plt\n",
    "import pandas as pd\n",
    "from sklearn import preprocessing\n",
    "from sklearn.cross_validation import train_test_split, cross_val_score, KFold\n",
    "from sklearn.metrics import accuracy_score, precision_score, recall_score, f1_score\n",
    "from sklearn.metrics import roc_curve, auc, confusion_matrix, classification_report\n",
    "from sklearn import tree \n",
    "from sklearn.ensemble import RandomForestClassifier\n",
    "from sklearn.model_selection import cross_val_score\n",
    "import scipy.stats as ss\n",
    "from sklearn.neighbors import KNeighborsClassifier\n",
    "from sklearn.grid_search import GridSearchCV\n",
    "import time\n",
    "from operator import itemgetter\n",
    "import os\n",
    "os.getcwd()\n"
   ]
  },
  {
   "cell_type": "code",
   "execution_count": 8,
   "metadata": {
    "collapsed": false
   },
   "outputs": [
    {
     "data": {
      "text/plain": [
       "863"
      ]
     },
     "execution_count": 8,
     "metadata": {},
     "output_type": "execute_result"
    }
   ],
   "source": [
    "# Set Seed to get consistent random data\n",
    "random.seed(101)\n",
    "\n",
    "# Test Set Seed. for random.seed(101), this number should equal 863\n",
    "np.random.randint(1000)"
   ]
  },
  {
   "cell_type": "code",
   "execution_count": 9,
   "metadata": {
    "collapsed": false
   },
   "outputs": [],
   "source": [
    "#randomely generate some 'probabilities'. This will be our model output.\n",
    "feat1 = pd.DataFrame(np.random.rand(10000))\n",
    "feat2 = pd.DataFrame(np.random.rand(10000))\n",
    "feat3 = pd.DataFrame(np.random.rand(10000))\n",
    "feat4 = pd.DataFrame(np.random.rand(10000))\n",
    "feat5 = pd.DataFrame(np.random.rand(10000))\n",
    "feat6 = pd.DataFrame(np.random.rand(10000))\n",
    "\n",
    "target = actual = pd.DataFrame(np.random.randint(2, size = (1,10000))).transpose()\n",
    "\n",
    "df = pd.concat([target,feat1,feat2,feat3,feat4,feat5,feat6], axis = 1)"
   ]
  },
  {
   "cell_type": "code",
   "execution_count": 12,
   "metadata": {
    "collapsed": false
   },
   "outputs": [
    {
     "data": {
      "text/html": [
       "<div>\n",
       "<table border=\"1\" class=\"dataframe\">\n",
       "  <thead>\n",
       "    <tr style=\"text-align: right;\">\n",
       "      <th></th>\n",
       "      <th>target</th>\n",
       "      <th>feat1</th>\n",
       "      <th>feat2</th>\n",
       "      <th>feat3</th>\n",
       "      <th>feat4</th>\n",
       "      <th>feat5</th>\n",
       "      <th>feat6</th>\n",
       "    </tr>\n",
       "  </thead>\n",
       "  <tbody>\n",
       "    <tr>\n",
       "      <th>0</th>\n",
       "      <td>0</td>\n",
       "      <td>0.552540</td>\n",
       "      <td>0.966928</td>\n",
       "      <td>0.336558</td>\n",
       "      <td>0.249471</td>\n",
       "      <td>0.777570</td>\n",
       "      <td>0.305857</td>\n",
       "    </tr>\n",
       "    <tr>\n",
       "      <th>1</th>\n",
       "      <td>1</td>\n",
       "      <td>0.952684</td>\n",
       "      <td>0.555132</td>\n",
       "      <td>0.971551</td>\n",
       "      <td>0.667135</td>\n",
       "      <td>0.418140</td>\n",
       "      <td>0.764216</td>\n",
       "    </tr>\n",
       "    <tr>\n",
       "      <th>2</th>\n",
       "      <td>1</td>\n",
       "      <td>0.984448</td>\n",
       "      <td>0.772747</td>\n",
       "      <td>0.979844</td>\n",
       "      <td>0.582496</td>\n",
       "      <td>0.973040</td>\n",
       "      <td>0.735503</td>\n",
       "    </tr>\n",
       "    <tr>\n",
       "      <th>3</th>\n",
       "      <td>1</td>\n",
       "      <td>0.001330</td>\n",
       "      <td>0.374079</td>\n",
       "      <td>0.109988</td>\n",
       "      <td>0.491536</td>\n",
       "      <td>0.965469</td>\n",
       "      <td>0.229816</td>\n",
       "    </tr>\n",
       "    <tr>\n",
       "      <th>4</th>\n",
       "      <td>0</td>\n",
       "      <td>0.534111</td>\n",
       "      <td>0.041517</td>\n",
       "      <td>0.533055</td>\n",
       "      <td>0.981715</td>\n",
       "      <td>0.621664</td>\n",
       "      <td>0.787824</td>\n",
       "    </tr>\n",
       "  </tbody>\n",
       "</table>\n",
       "</div>"
      ],
      "text/plain": [
       "   target     feat1     feat2     feat3     feat4     feat5     feat6\n",
       "0       0  0.552540  0.966928  0.336558  0.249471  0.777570  0.305857\n",
       "1       1  0.952684  0.555132  0.971551  0.667135  0.418140  0.764216\n",
       "2       1  0.984448  0.772747  0.979844  0.582496  0.973040  0.735503\n",
       "3       1  0.001330  0.374079  0.109988  0.491536  0.965469  0.229816\n",
       "4       0  0.534111  0.041517  0.533055  0.981715  0.621664  0.787824"
      ]
     },
     "execution_count": 12,
     "metadata": {},
     "output_type": "execute_result"
    }
   ],
   "source": [
    "df.columns = ['target','feat1','feat2','feat3','feat4','feat5','feat6']\n",
    "df.head()"
   ]
  },
  {
   "cell_type": "code",
   "execution_count": 13,
   "metadata": {
    "collapsed": true
   },
   "outputs": [],
   "source": [
    "# split dataset into testing and training\n",
    "features_train, features_test, target_train, target_test = train_test_split(\n",
    "    df.ix[:,1:].values, df.ix[:,0].values, test_size=0.40, random_state=0)"
   ]
  },
  {
   "cell_type": "code",
   "execution_count": 15,
   "metadata": {
    "collapsed": false
   },
   "outputs": [
    {
     "name": "stdout",
     "output_type": "stream",
     "text": [
      "(4000, 6)\n",
      "(6000, 6)\n",
      "(4000,)\n",
      "(6000,)\n",
      "Percent of Target that is Yes 0.513\n"
     ]
    }
   ],
   "source": [
    "print(features_test.shape)\n",
    "print(features_train.shape)\n",
    "print(target_test.shape)\n",
    "print(target_train.shape)\n",
    "print(\"Percent of Target that is Yes\", target_test.mean())"
   ]
  },
  {
   "cell_type": "code",
   "execution_count": 19,
   "metadata": {
    "collapsed": false
   },
   "outputs": [
    {
     "ename": "AttributeError",
     "evalue": "'numpy.ndarray' object has no attribute 'loc'",
     "output_type": "error",
     "traceback": [
      "\u001b[0;31m---------------------------------------------------------------------------\u001b[0m",
      "\u001b[0;31mAttributeError\u001b[0m                            Traceback (most recent call last)",
      "\u001b[0;32m<ipython-input-19-3c6039b6975a>\u001b[0m in \u001b[0;36m<module>\u001b[0;34m()\u001b[0m\n\u001b[0;32m----> 1\u001b[0;31m features_train_deciles = pd.concat([features_train,features_train.loc[:,:].apply(lambda x: pd.qcut(x,10, labels = False)),target_train]\n\u001b[0m\u001b[1;32m      2\u001b[0m                                    ,axis = 1)\n",
      "\u001b[0;31mAttributeError\u001b[0m: 'numpy.ndarray' object has no attribute 'loc'"
     ]
    }
   ],
   "source": [
    "features_train_deciles = pd.concat([features_train,features_train.apply(lambda x: pd.qcut(x,10, labels = False)),target_train]\n",
    "                                   ,axis = 1)"
   ]
  },
  {
   "cell_type": "code",
   "execution_count": null,
   "metadata": {
    "collapsed": true
   },
   "outputs": [],
   "source": []
  }
 ],
 "metadata": {
  "anaconda-cloud": {},
  "kernelspec": {
   "display_name": "Python [conda root]",
   "language": "python",
   "name": "conda-root-py"
  },
  "language_info": {
   "codemirror_mode": {
    "name": "ipython",
    "version": 3
   },
   "file_extension": ".py",
   "mimetype": "text/x-python",
   "name": "python",
   "nbconvert_exporter": "python",
   "pygments_lexer": "ipython3",
   "version": "3.5.2"
  }
 },
 "nbformat": 4,
 "nbformat_minor": 1
}
